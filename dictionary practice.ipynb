{
 "cells": [
  {
   "cell_type": "code",
   "execution_count": 26,
   "metadata": {},
   "outputs": [
    {
     "name": "stdout",
     "output_type": "stream",
     "text": [
      "{'john': 1, 'mark': 3, 'peter': 4}\n"
     ]
    }
   ],
   "source": [
    "#count number of times a name is repeated using dictionary\n",
    "\n",
    "list1=['john', 'mark', 'peter', 'peter', 'mark', 'peter', 'peter', 'mark']\n",
    "\n",
    "a={}\n",
    "for i in list1:\n",
    "    a[i]=list1.count(i)\n",
    "    \n",
    "print(a)"
   ]
  },
  {
   "cell_type": "code",
   "execution_count": null,
   "metadata": {},
   "outputs": [],
   "source": []
  }
 ],
 "metadata": {
  "kernelspec": {
   "display_name": "Python 3",
   "language": "python",
   "name": "python3"
  },
  "language_info": {
   "codemirror_mode": {
    "name": "ipython",
    "version": 3
   },
   "file_extension": ".py",
   "mimetype": "text/x-python",
   "name": "python",
   "nbconvert_exporter": "python",
   "pygments_lexer": "ipython3",
   "version": "3.8.5"
  }
 },
 "nbformat": 4,
 "nbformat_minor": 4
}
